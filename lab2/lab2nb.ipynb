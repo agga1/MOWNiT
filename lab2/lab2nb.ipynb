{
 "cells": [
  {
   "cell_type": "code",
   "execution_count": 2,
   "metadata": {},
   "outputs": [],
   "source": [
    "import json\n",
    "import matplotlib.pyplot as plt\n",
    "import numpy as np\n",
    "from typing import List, Iterable, Dict\n",
    "\n",
    "data_folder = \"lab2/data/\""
   ]
  },
  {
   "cell_type": "code",
   "execution_count": null,
   "metadata": {},
   "outputs": [
    {
     "name": "stdout",
     "output_type": "stream",
     "text": [
      "[[1.0, 0.0, -2.727272727272728], [0.0, 1.0, 3.181818181818182]]\n"
     ]
    }
   ],
   "source": [
    "def gauss_jordan(m, eps = 1.0/(10**10)):\n",
    "    (h, w) = (len(m), len(m[0]))\n",
    "    for y in range(0,h):\n",
    "        maxrow = y\n",
    "        for y2 in range(y+1, h):    # Find max pivot\n",
    "            if abs(m[y2][y]) > abs(m[maxrow][y]):\n",
    "                maxrow = y2\n",
    "        (m[y], m[maxrow]) = (m[maxrow], m[y])\n",
    "        if abs(m[y][y]) <= eps:     # Singular?\n",
    "            return False\n",
    "        for y2 in range(y+1, h):    # Eliminate column y\n",
    "            c = m[y2][y] / m[y][y]\n",
    "            for x in range(y, w):\n",
    "                m[y2][x] -= m[y][x] * c\n",
    "    for y in range(h-1, 0-1, -1): # Backsubstitute\n",
    "        c  = m[y][y]\n",
    "        for y2 in range(0,y):\n",
    "            for x in range(w-1, y-1, -1):\n",
    "                m[y2][x] -=  m[y][x] * m[y2][y] / c\n",
    "        m[y][y] /= c\n",
    "        for x in range(h, w):       # Normalize row y\n",
    "            m[y][x] /= c\n",
    "    return True\n",
    "\n",
    "m=[[1.1, 2.2, 4.0],[3.3, 4.4, 5.0]]\n",
    "gauss_jordan(m)\n",
    "print(m)"
   ]
  }
 ],
 "metadata": {
  "kernelspec": {
   "display_name": "Python 3",
   "language": "python",
   "name": "python3"
  },
  "language_info": {
   "codemirror_mode": {
    "name": "ipython",
    "version": 3
   },
   "file_extension": ".py",
   "mimetype": "text/x-python",
   "name": "python",
   "nbconvert_exporter": "python",
   "pygments_lexer": "ipython3",
   "version": "3.7.4"
  }
 },
 "nbformat": 4,
 "nbformat_minor": 2
}
