{
 "cells": [
  {
   "cell_type": "markdown",
   "metadata": {},
   "source": [
    "# Electrical circuit analysis"
   ]
  },
  {
   "cell_type": "markdown",
   "metadata": {},
   "source": [
    "[Skip the code](#start)"
   ]
  },
  {
   "cell_type": "code",
   "execution_count": 2,
   "metadata": {},
   "outputs": [],
   "source": [
    "from typing import List, Tuple\n",
    "import networkx as nx\n",
    "from random import random\n",
    "def load_weighted_graph(name: str) -> Tuple[int, List]:\n",
    "    \"\"\"Load a graph in the DIMACS ascii format (with weights) from\n",
    "     the file \"name\" and return it as a list of sets\n",
    "     Returns (V,L)\n",
    "     V -- number of vertices (1, ..., V)\n",
    "     L -- list of edges in the format (x,y,w): edge between x and y with weight w (x<y)\"\"\"\n",
    "\n",
    "    V = 0\n",
    "    L = []\n",
    "\n",
    "    f = open(name, \"r\")\n",
    "    lines = f.readlines()\n",
    "    for l in lines:\n",
    "        s = l.split()\n",
    "        if len(s) < 1: continue\n",
    "        if s[0] == \"c\":\n",
    "            continue\n",
    "        elif s[0] == \"p\":\n",
    "            V = int(s[2])\n",
    "        elif s[0] == \"e\":\n",
    "            (a, b, c) = (int(s[1]), int(s[2]), int(s[3]))\n",
    "            (x, y, c) = (min(a, b), max(a, b), c)\n",
    "            L.append((x, y, c))\n",
    "\n",
    "    f.close()\n",
    "    return V, L\n",
    "\n",
    "def toNxGraph0(name: str):\n",
    "    V, L = load_weighted_graph(name)\n",
    "    G = nx.Graph()\n",
    "    G.add_nodes_from([x for x in range(0, V)])\n",
    "    for (u, v, weight) in L:\n",
    "        G.add_edge(u-1, v-1, weight=weight, current=0)\n",
    "    nx.set_node_attributes(G, None, 'V')\n",
    "    nx.set_node_attributes(G, '#dabb69', 'color')\n",
    "    return G\n",
    "\n",
    "def add_attr(G: nx.Graph):\n",
    "    nx.set_edge_attributes(G, 0, 'weight')\n",
    "    for (u, v) in G.edges():\n",
    "        G[u][v]['weight'] = random()*20\n",
    "    nx.set_node_attributes(G, None, 'V')\n",
    "    nx.set_node_attributes(G, '#dabb69', 'color')\n"
   ]
  },
  {
   "cell_type": "code",
   "execution_count": 3,
   "metadata": {},
   "outputs": [],
   "source": [
    "def normalize(idx, shape=None):\n",
    "    if(shape is None or len(shape)==1):\n",
    "        return idx\n",
    "    if len(shape)==2:\n",
    "        return idx[0]*shape[1]+idx[1]\n",
    "    "
   ]
  },
  {
   "cell_type": "code",
   "execution_count": 4,
   "metadata": {},
   "outputs": [],
   "source": [
    "import numpy as np\n",
    "import networkx as nx\n",
    "\n",
    "\"\"\" finds voltages on each node calculated using node analysis method \n",
    "@shape: index labels dimensions( ex (5,6) for 2d graph, (30)(or None) for classic ) \"\"\"\n",
    "def node_analysisNx(G: nx.Graph, shape=None):\n",
    "    A = np.zeros(shape=(len(G), len(G)))\n",
    "    B = np.array([0]*len(G))\n",
    "    ns = G.nodes\n",
    "    for idx in ns:\n",
    "        idx_norm = normalize(idx, shape)  # if dx is not a single nr (e.g. 2dgrid->(0,1))\n",
    "        if ns[idx]['V'] is not None:\n",
    "            A[idx_norm][idx_norm] = 1\n",
    "            B[idx_norm] = ns[idx]['V']\n",
    "        else:\n",
    "            for neigh in G[idx]:  # neigh = (v_idx, edge_weight)\n",
    "                w = G[idx][neigh]['weight']\n",
    "                A[idx_norm][idx_norm] += 1./w\n",
    "                A[idx_norm][normalize(neigh, shape)] -= 1./w\n",
    "    Vs = np.linalg.solve(A, B)\n",
    "    for idx in ns:\n",
    "        ns[idx]['V'] = Vs[normalize(idx, shape)]\n"
   ]
  },
  {
   "cell_type": "code",
   "execution_count": 5,
   "metadata": {},
   "outputs": [],
   "source": [
    "\"\"\" update current for each edge (in undirected graph)\"\"\"\n",
    "def update_current(G: nx.Graph):\n",
    "    for (u, v, props) in G.edges(data=True):\n",
    "        props['current'] = abs(G.nodes[u]['V']-G.nodes[v]['V'])/props['weight']\n",
    "\n"
   ]
  },
  {
   "cell_type": "code",
   "execution_count": 12,
   "metadata": {},
   "outputs": [],
   "source": [
    "def build_directed(G: nx.Graph, with_voltage=True):\n",
    "    \"\"\" build directed graph based on current flowing in each edge of undirected graph\"\"\"\n",
    "    GDir = nx.DiGraph()\n",
    "    GDir.add_nodes_from(G.nodes())\n",
    "    nx.set_node_attributes(GDir, dict(G.nodes(data='color', default='#dabb69')), 'color')\n",
    "    if with_voltage:\n",
    "        nx.set_node_attributes(GDir, dict(G.nodes(data='V', default=0)), 'V')\n",
    "    for (u, v, props) in G.edges(data=True):\n",
    "        I = (G.nodes[u]['V']-G.nodes[v]['V'])/props['weight']\n",
    "        if I > 0:\n",
    "            GDir.add_edge(u, v, current=abs(I))\n",
    "        else:\n",
    "            GDir.add_edge(v, u, current=abs(I))\n",
    "    return GDir"
   ]
  },
  {
   "cell_type": "code",
   "execution_count": 93,
   "metadata": {},
   "outputs": [
    {
     "data": {
      "text/plain": [
       "' checker '"
      ]
     },
     "execution_count": 93,
     "metadata": {},
     "output_type": "execute_result"
    }
   ],
   "source": [
    "\"\"\" checker \"\"\""
   ]
  },
  {
   "cell_type": "code",
   "execution_count": 6,
   "metadata": {},
   "outputs": [],
   "source": [
    "\"\"\" different types of graphs randomly generated\"\"\"\n",
    "Gs = []\n",
    "Gs.append(nx.barbell_graph(9, 10)) ## 2 grafy połączone mostkiem\n",
    "Gs.append(nx.connected_watts_strogatz_graph(20, 3, 0.2)) # zwykly graf\n",
    "Gs.append(nx.cycle_graph( 30))\n",
    "Gs.append(nx.random_regular_graph(3, 30)) #graf 3-regularny z 30 wierzcholkami\n",
    "Gs.append(nx.cubical_graph())\n",
    "Gs.append(nx.grid_2d_graph(5, 6))  # grid graph (30 nodes)\n",
    "Gs.append(nx.connected_caveman_graph(2, 5))"
   ]
  },
  {
   "cell_type": "markdown",
   "metadata": {},
   "source": [
    "<a id='start'></a>\n",
    "### Choose graph (from list of randomly generated graphs (^) or insert your own from file)"
   ]
  },
  {
   "cell_type": "code",
   "execution_count": 31,
   "metadata": {},
   "outputs": [],
   "source": [
    "\"\"\"provide path to your graph: \"\"\"\n",
    "G = toNxGraph0(\"./graphs/simple7\")"
   ]
  },
  {
   "cell_type": "code",
   "execution_count": 28,
   "metadata": {},
   "outputs": [],
   "source": [
    "\"\"\"or choose random graph from the list above\"\"\"\n",
    "G = Gs[2]\n",
    "add_attr(G)"
   ]
  },
  {
   "cell_type": "markdown",
   "metadata": {},
   "source": [
    "### Insert  s, t and E values"
   ]
  },
  {
   "cell_type": "code",
   "execution_count": 32,
   "metadata": {},
   "outputs": [
    {
     "name": "stdout",
     "output_type": "stream",
     "text": [
      "--!WARNING!-- current input type: first vertex with idx 0\n",
      "enter s, t and E values (separated by space)0 2 20\n"
     ]
    }
   ],
   "source": [
    "print(\"--!WARNING!-- current input type: first vertex with idx 0\")\n",
    "s, t, E = [int(x) for x in input(\"enter s, t and E values (separated by space)\").split()]\n",
    "# t = (0, 1)  # --- for 2d-grid override t and s manually\n",
    "# s = (1, 2)\n",
    "G.nodes[t]['V'] = 0\n",
    "G.nodes[s]['V'] = E\n",
    "G.nodes[t]['color'] = '#96bb3f'\n",
    "G.nodes[s]['color'] = '#c8270a'\n",
    "# node_analysisNx(G, shape=({width}, {height}))  # override manually for grid graphs\n",
    "node_analysisNx(G)  \n",
    "G = build_directed(G)"
   ]
  },
  {
   "cell_type": "markdown",
   "metadata": {},
   "source": [
    "### Run to see the results!"
   ]
  },
  {
   "cell_type": "code",
   "execution_count": 39,
   "metadata": {},
   "outputs": [
    {
     "data": {
      "image/png": "[encoded data removed]",
      "text/plain": [
       "<Figure size 864x864 with 1 Axes>"
      ]
     },
     "metadata": {},
     "output_type": "display_data"
    }
   ],
   "source": [
    "import typing\n",
    "import networkx as nx\n",
    "import matplotlib.pyplot as plt\n",
    "# pos = nx.spring_layout(G)  # positions for all nodes\n",
    "plt.figure(3,figsize=(12,12)) \n",
    "pos =nx.spring_layout(G)\n",
    "\n",
    "# color of edges and nodes\n",
    "edges,currents = zip(*nx.get_edge_attributes(G,'current').items())\n",
    "node_colors = [val for key, val in nx.get_node_attributes(G, 'color').items()]\n",
    "labels = nx.get_edge_attributes(G,'current')\n",
    "labels_form = {}\n",
    "for key, val in labels.items():\n",
    "    labels_form[key] = \"{0:.2f}\".format(val)\n",
    "    \n",
    "# nx.draw_networkx_nodes(G, pos, node_color=node_colors)\n",
    "nx.draw_networkx_nodes(G, pos, node_color=node_colors)\n",
    "nx.draw_networkx_edges(G, pos, edgelist=edges, edge_color=currents, edge_cmap=plt.cm.Reds) # or jet\n",
    "nx.draw_networkx_labels(G, pos, font_family='sans-serif')\n",
    "nx.draw_networkx_edge_labels(G,pos,edge_labels=labels_form)\n",
    "plt.savefig(\"whatever.png\")\n",
    "plt.show()"
   ]
  },
  {
   "cell_type": "markdown",
   "metadata": {},
   "source": [
    "### Check the correctness of generated solution"
   ]
  },
  {
   "cell_type": "code",
   "execution_count": null,
   "metadata": {},
   "outputs": [],
   "source": []
  }
 ],
 "metadata": {
  "kernelspec": {
   "display_name": "Python 3",
   "language": "python",
   "name": "python3"
  },
  "language_info": {
   "codemirror_mode": {
    "name": "ipython",
    "version": 3
   },
   "file_extension": ".py",
   "mimetype": "text/x-python",
   "name": "python",
   "nbconvert_exporter": "python",
   "pygments_lexer": "ipython3",
   "version": "3.7.4"
  }
 },
 "nbformat": 4,
 "nbformat_minor": 2
}
