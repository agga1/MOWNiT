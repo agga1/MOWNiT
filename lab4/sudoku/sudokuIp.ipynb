{
 "cells": [
  {
   "cell_type": "markdown",
   "metadata": {},
   "source": [
    "# Sudoku solver using Symulated Annealing\n",
    "Agnieszka Dutka\n",
    "\n",
    "Go to:\n",
    "[SA main algorithm](#sa)\n",
    "[Testing sudokus](#testing)"
   ]
  },
  {
   "cell_type": "code",
   "execution_count": 85,
   "metadata": {},
   "outputs": [],
   "source": [
    "import numpy as np\n",
    "from random import random, sample\n",
    "from math import exp\n",
    "import matplotlib.pyplot as plt\n",
    "import matplotlib.cm as cm"
   ]
  },
  {
   "cell_type": "markdown",
   "metadata": {},
   "source": [
    "### Useful structures"
   ]
  },
  {
   "cell_type": "code",
   "execution_count": 87,
   "metadata": {},
   "outputs": [],
   "source": [
    "class Sudoku:\n",
    "    def __init__(self, matrix=None, fromSudoku=None):\n",
    "        if fromSudoku is None:\n",
    "            self.matrix=matrix\n",
    "            self.setUnknowns()\n",
    "        else:\n",
    "            self.matrix = np.copy(fromSudoku.matrix)\n",
    "            self.unknowns = fromSudoku.unknowns\n",
    "                    \n",
    "    def setUnknowns(self): # initialize empty fields wth sth\n",
    "        self.unknowns = []\n",
    "        nrToFill = []\n",
    "        for r in range(9):\n",
    "            nrs = [0]*10\n",
    "            for c in range(9):\n",
    "                if self[r, c] < 0:\n",
    "                    self.unknowns.append([r, c])\n",
    "                else:\n",
    "                    nrs[self[r, c]] = 1\n",
    "            for c in range(1, 10):\n",
    "                if nrs[c] == 0:\n",
    "                    nrToFill.append(c)\n",
    "        for idx, nr in enumerate(nrToFill):\n",
    "            r, c = self.unknowns[idx]\n",
    "            self[r, c] = nr\n",
    "                    \n",
    "    def __setitem__(self, index, value):\n",
    "        self.matrix[index] = value\n",
    "\n",
    "    def __getitem__(self, index):\n",
    "        return self.matrix[index]\n",
    "        \n",
    "    def __repr__(self):\n",
    "        return str(self.matrix)"
   ]
  },
  {
   "cell_type": "code",
   "execution_count": 92,
   "metadata": {},
   "outputs": [],
   "source": [
    "class OptimState:\n",
    "    def __init__(self, x0, cost, T0, alpha, iterNr=0):\n",
    "        self.val = x0\n",
    "        self.cost = cost\n",
    "        self.T0 = T0\n",
    "        self.alpha = alpha\n",
    "        self.iter = iterNr\n",
    "\n",
    "    def __repr__(self):\n",
    "        adj = \"\" if self.cost ==0 else \"approx \"\n",
    "        return f\"T0: {self.T0}\\nalpha:{self.alpha}\\n{adj}solution:\\n{self.val}\\ncost: {self.cost}\\niter: {self.iter}\""
   ]
  },
  {
   "cell_type": "code",
   "execution_count": 93,
   "metadata": {},
   "outputs": [],
   "source": [
    "def readSudoku(filename):\n",
    "    \"\"\" - each line must represent one row, \n",
    "        - empty place marked as any char except whitespace \n",
    "        - see sudokus folder for examples \"\"\"\n",
    "    f = open(filename, \"r\", encoding='utf-8')\n",
    "    text = f.readlines()\n",
    "    mx = np.zeros((9, 9), dtype=int)\n",
    "    lnr=0\n",
    "    for line in text:\n",
    "        line.replace(\" \", \"\")\n",
    "        for i in range(9):\n",
    "            mx[lnr][i] =  -1 if (line[i] < '1' or line[i] > '9') else ord(line[i])-48\n",
    "        lnr+=1\n",
    "    return Sudoku(mx)\n"
   ]
  },
  {
   "cell_type": "markdown",
   "metadata": {},
   "source": [
    "<a id='sa'></a>\n",
    "## SA main algorithm"
   ]
  },
  {
   "cell_type": "code",
   "execution_count": 94,
   "metadata": {},
   "outputs": [],
   "source": [
    "def SA(costFunc, x, nextSudoku, T0=100., show=0, maxIter=20000, alpha=0.99):\n",
    "    alpha = alpha\n",
    "    state = OptimState(x, costFunc(x), T0, alpha)\n",
    "    costs = [state.cost]\n",
    "    T = T0\n",
    "    for i in range(maxIter):\n",
    "        \n",
    "        if state.cost == 0:\n",
    "            print(\"ideal solution found\")\n",
    "            return state\n",
    "        \n",
    "        newX = nextSudoku(state.val)\n",
    "        newState = OptimState(newX, costFunc(newX), T0, alpha, i)\n",
    "        \n",
    "        # decide whether change state\n",
    "        delta = newState.cost - state.cost\n",
    "        if delta <= 0:\n",
    "            state = newState\n",
    "        else:\n",
    "            P = exp(-1*delta / T)\n",
    "            if (show>0 and i % show == 0):\n",
    "                print(P, \" on iter \", i)\n",
    "                print(\"T = \", T)\n",
    "            if random() <= P:\n",
    "                state = newState\n",
    "\n",
    "        T = T*alpha\n",
    "        costs.append(state.cost)\n",
    "        if (show>0 and i %show == 0): #i % show ==0\n",
    "            print(state.val)\n",
    "            print(state.cost)\n",
    "            \n",
    "    return state\n"
   ]
  },
  {
   "cell_type": "markdown",
   "metadata": {},
   "source": [
    "### cost function"
   ]
  },
  {
   "cell_type": "code",
   "execution_count": 95,
   "metadata": {},
   "outputs": [],
   "source": [
    "def costFunc(sudoku: Sudoku):\n",
    "    cost = 0\n",
    "    for r in range(9):\n",
    "        nrs = [0]*10\n",
    "        for c in range(9):\n",
    "            nrs[sudoku[r,c]] += 1\n",
    "        for idx in range(1, 10):\n",
    "            if nrs[idx] > 0:\n",
    "                nrs[idx] -= 1\n",
    "        cost += np.sum(nrs)\n",
    "    for c in range(9):\n",
    "        nrs = [0]*10\n",
    "        for r in range(9):\n",
    "            nrs[sudoku[r,c]] += 1\n",
    "        for idx in range(1, 10):\n",
    "            if nrs[idx] > 0:\n",
    "                nrs[idx] -= 1\n",
    "        cost += np.sum(nrs)\n",
    "    for i in range(0, 9, 3):\n",
    "        for j in range(0, 9, 3):\n",
    "            nrs = [0]*10\n",
    "            for r in range(3):\n",
    "                for c in range(3):\n",
    "                    nrs[sudoku[i+r,j+c]] += 1\n",
    "            for idx in range(1, 10):\n",
    "                if nrs[idx] > 0:\n",
    "                    nrs[idx] -= 1\n",
    "            cost += np.sum(nrs)\n",
    "    return cost"
   ]
  },
  {
   "cell_type": "markdown",
   "metadata": {},
   "source": [
    "### next state function"
   ]
  },
  {
   "cell_type": "code",
   "execution_count": 96,
   "metadata": {},
   "outputs": [],
   "source": [
    "def nextStateRnd(sudoku: Sudoku):\n",
    "    su = sudoku.unknowns\n",
    "    idxs =  sample([x for x in range(len(su))], 2)\n",
    "    coord1, coord2 = su[idxs[0]], su[idxs[1]]\n",
    "    r1, c1 = coord1\n",
    "    r2, c2 = coord2\n",
    "    res = Sudoku(fromSudoku=sudoku)\n",
    "    res[r1, c1], res[r2, c2] = sudoku[r2, c2], sudoku[r1, c1]\n",
    "    return res"
   ]
  },
  {
   "cell_type": "markdown",
   "metadata": {},
   "source": [
    "<a id='testing'></a>\n",
    "### Testing"
   ]
  },
  {
   "cell_type": "code",
   "execution_count": 98,
   "metadata": {},
   "outputs": [
    {
     "name": "stdout",
     "output_type": "stream",
     "text": [
      "sudoku:\n",
      " [[1 2 3 4 5 6 7 8 9]\n",
      " [4 5 7 1 8 9 2 3 6]\n",
      " [6 8 9 2 3 7 1 4 5]\n",
      " [1 8 5 3 6 2 9 7 4]\n",
      " [2 7 4 1 9 8 6 5 3]\n",
      " [3 9 6 5 7 4 8 1 2]\n",
      " [2 4 5 6 1 8 3 9 7]\n",
      " [7 6 1 3 4 9 5 2 8]\n",
      " [9 3 8 7 2 5 1 6 4]]\n",
      "unknowns:  18\n",
      "initial cost:  10 \n",
      "\n",
      "ideal solution found\n",
      "T0: 320\n",
      "alpha:0.99\n",
      "solution:\n",
      "[[1 2 3 4 5 6 7 8 9]\n",
      " [4 5 7 1 8 9 2 3 6]\n",
      " [6 8 9 2 3 7 1 4 5]\n",
      " [8 1 5 3 6 2 9 7 4]\n",
      " [2 7 4 8 9 1 6 5 3]\n",
      " [3 9 6 5 7 4 8 1 2]\n",
      " [5 4 2 6 1 8 3 9 7]\n",
      " [7 6 1 9 4 3 5 2 8]\n",
      " [9 3 8 7 2 5 4 6 1]]\n",
      "cost: 0\n",
      "iter: 817\n"
     ]
    }
   ],
   "source": [
    "sudoku =readSudoku(\"sudokus/ex1Ez.txt\")\n",
    "print(\"sudoku:\\n\",sudoku)\n",
    "print(\"unknowns: \",len(sudoku.unknowns))\n",
    "print(\"initial cost: \",costFunc(sudoku), \"\\n\")\n",
    "\n",
    "res = SA(costFunc, sudoku, nextStateRnd, show=0, maxIter=30000, T0=320)\n",
    "print(res)"
   ]
  }
 ],
 "metadata": {
  "kernelspec": {
   "display_name": "Python 3",
   "language": "python",
   "name": "python3"
  },
  "language_info": {
   "codemirror_mode": {
    "name": "ipython",
    "version": 3
   },
   "file_extension": ".py",
   "mimetype": "text/x-python",
   "name": "python",
   "nbconvert_exporter": "python",
   "pygments_lexer": "ipython3",
   "version": "3.7.4"
  }
 },
 "nbformat": 4,
 "nbformat_minor": 2
}
